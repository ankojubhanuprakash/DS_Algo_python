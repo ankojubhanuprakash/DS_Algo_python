{
  "nbformat": 4,
  "nbformat_minor": 0,
  "metadata": {
    "colab": {
      "name": "BinarySearchTree.ipynb",
      "provenance": [],
      "authorship_tag": "ABX9TyNpjDHhTLLjoPy6SHwHr2oK",
      "include_colab_link": true
    },
    "kernelspec": {
      "name": "python3",
      "display_name": "Python 3"
    },
    "language_info": {
      "name": "python"
    }
  },
  "cells": [
    {
      "cell_type": "markdown",
      "metadata": {
        "id": "view-in-github",
        "colab_type": "text"
      },
      "source": [
        "<a href=\"https://colab.research.google.com/github/ankojubhanuprakash/DS_Algo_python/blob/main/BinarySearchTree.ipynb\" target=\"_parent\"><img src=\"https://colab.research.google.com/assets/colab-badge.svg\" alt=\"Open In Colab\"/></a>"
      ]
    },
    {
      "cell_type": "code",
      "execution_count": 259,
      "metadata": {
        "id": "EyI25_QvE-f2"
      },
      "outputs": [],
      "source": [
        "class BinarySearchTree():\n",
        "    def __init__(self,data):\n",
        "      self.data= data\n",
        "      self.left=None\n",
        "      self.right= None\n",
        "    def add_child(self,data):\n",
        "      if data < self.data:\n",
        "        if self.left:\n",
        "          self.left.add_child(data)\n",
        "        else:\n",
        "          self.left= BinarySearchTree(data)\n",
        "      elif data > self.data:\n",
        "        if self.right:\n",
        "          self.right.add_child(data)\n",
        "        else:\n",
        "          self.right=BinarySearchTree(data)  \n",
        "\n",
        "      else:      \n",
        "        print(data,'value alreay exists' ) \n",
        "    def inorder(self):\n",
        "      elements= []\n",
        "      if self.left:\n",
        "        elements+=self.left.inorder()\n",
        "      elements.append(self.data)\n",
        "      if self.right:\n",
        "        elements+=self.right.inorder()\n",
        "\n",
        "      return elements    \n",
        "    def preorder(self):\n",
        "      elements= []\n",
        "      elements.append(self.data)\n",
        "      if self.left:\n",
        "        elements+=self.left.preorder()\n",
        "      #elements.append(self.data)\n",
        "      if self.right:\n",
        "        elements+=self.right.preorder()\n",
        "\n",
        "      return elements      \n",
        "    def postorder(self):\n",
        "      elements= []\n",
        "      #elements.append(self.data)\n",
        "      if self.left:\n",
        "        elements+=self.left.postorder()\n",
        "      #elements.append(self.data)\n",
        "      if self.right:\n",
        "        elements+=self.right.postorder()\n",
        "      elements.append(self.data)\n",
        "      return elements   \n",
        "    def min(self):\n",
        "      if self.left:\n",
        "\n",
        "        return self.left.min()\n",
        "      else: \n",
        "        return self.data  \n",
        "    def max(self):\n",
        "      if self.right:\n",
        "\n",
        "        return self.right.max()\n",
        "      else: \n",
        "        return self.data     \n",
        "    def search(self,val):\n",
        "      if val== self.data:\n",
        "        return True\n",
        "      elif val<self.data:\n",
        "        if self.left:\n",
        "          return self.left.search(val)  \n",
        "        else:\n",
        "          return False  \n",
        "      elif val> self.data:\n",
        "        if self.right:\n",
        "          return self.right.search(val)\n",
        "        else:\n",
        "          return False  \n",
        "      else:\n",
        "        return False\n",
        "    def sum(self):\n",
        "      ans=self.data\n",
        "      if self.left:\n",
        "        ans=ans+self.left.sum()\n",
        "      if self.right:\n",
        "        ans=ans+self.right.sum()\n",
        "      return ans       \n",
        "    def delete(self,val):\n",
        "\n",
        "      if self.data > val :\n",
        "        if self.left:\n",
        "          self.left=self.left.delete(val)\n",
        "      elif val > self.data :\n",
        "          if self.right:\n",
        "            self.right=self.right.delete(val) \n",
        "      else:\n",
        "        if self.left == None and self.right==None:\n",
        "          return None\n",
        "        if self.right==None:\n",
        "          return self.left\n",
        "        if self.left == None:\n",
        "            return self.right\n",
        "        rmin=self.right.min()\n",
        "        self.data=rmin\n",
        "        self.right = self.right.delete(rmin)\n",
        "      return self  \n",
        "\n"
      ]
    },
    {
      "cell_type": "code",
      "source": [
        "def create_tree(elements):\n",
        "  root = BinarySearchTree(elements[0])\n",
        "  for i in range(1,len(elements)) :\n",
        "    root.add_child(elements[i])\n",
        "  return root  \n"
      ],
      "metadata": {
        "id": "2bBzWgOME_CB"
      },
      "execution_count": 260,
      "outputs": []
    },
    {
      "cell_type": "code",
      "source": [
        "tree=create_tree([1,0,3,2,5,6,4,2.5,2.8,90,3.5])"
      ],
      "metadata": {
        "id": "qBSMj0E4HjNv"
      },
      "execution_count": 261,
      "outputs": []
    },
    {
      "cell_type": "code",
      "source": [
        "tree.inorder()"
      ],
      "metadata": {
        "colab": {
          "base_uri": "https://localhost:8080/"
        },
        "id": "J6bIokZMO7QG",
        "outputId": "cd751075-10a8-49b5-a8a8-e7de38e4fce1"
      },
      "execution_count": 262,
      "outputs": [
        {
          "output_type": "execute_result",
          "data": {
            "text/plain": [
              "[0, 1, 2, 2.5, 2.8, 3, 3.5, 4, 5, 6, 90]"
            ]
          },
          "metadata": {},
          "execution_count": 262
        }
      ]
    },
    {
      "cell_type": "code",
      "source": [
        "tree.min()"
      ],
      "metadata": {
        "colab": {
          "base_uri": "https://localhost:8080/"
        },
        "id": "OiWO-gGrQNOW",
        "outputId": "05455c6f-70f8-468e-c9b2-81d7a63a7ddc"
      },
      "execution_count": 263,
      "outputs": [
        {
          "output_type": "execute_result",
          "data": {
            "text/plain": [
              "0"
            ]
          },
          "metadata": {},
          "execution_count": 263
        }
      ]
    },
    {
      "cell_type": "code",
      "source": [
        "tree.max()"
      ],
      "metadata": {
        "colab": {
          "base_uri": "https://localhost:8080/"
        },
        "id": "dcUahooAQPtm",
        "outputId": "0831ce15-c8f3-4cc1-891a-688f9682c48d"
      },
      "execution_count": 264,
      "outputs": [
        {
          "output_type": "execute_result",
          "data": {
            "text/plain": [
              "90"
            ]
          },
          "metadata": {},
          "execution_count": 264
        }
      ]
    },
    {
      "cell_type": "code",
      "source": [
        "tree.delete(3)"
      ],
      "metadata": {
        "colab": {
          "base_uri": "https://localhost:8080/"
        },
        "id": "xykuOS6pQxb-",
        "outputId": "8772b7c5-4364-431d-9c5a-400b863c29b8"
      },
      "execution_count": 265,
      "outputs": [
        {
          "output_type": "execute_result",
          "data": {
            "text/plain": [
              "<__main__.BinarySearchTree at 0x7f67017e2f10>"
            ]
          },
          "metadata": {},
          "execution_count": 265
        }
      ]
    },
    {
      "cell_type": "code",
      "source": [
        "tree.inorder()\n"
      ],
      "metadata": {
        "colab": {
          "base_uri": "https://localhost:8080/"
        },
        "id": "seKMFg6qQzhn",
        "outputId": "96889b98-a8cb-4d0b-9219-0fa9300fb454"
      },
      "execution_count": 266,
      "outputs": [
        {
          "output_type": "execute_result",
          "data": {
            "text/plain": [
              "[0, 1, 2, 2.5, 2.8, 3.5, 4, 5, 6, 90]"
            ]
          },
          "metadata": {},
          "execution_count": 266
        }
      ]
    },
    {
      "cell_type": "code",
      "source": [
        "tree.left.data"
      ],
      "metadata": {
        "colab": {
          "base_uri": "https://localhost:8080/"
        },
        "id": "T5g1e4PtYbzy",
        "outputId": "03129077-715f-486c-f0e1-824a95a77dc5"
      },
      "execution_count": 241,
      "outputs": [
        {
          "output_type": "execute_result",
          "data": {
            "text/plain": [
              "0"
            ]
          },
          "metadata": {},
          "execution_count": 241
        }
      ]
    },
    {
      "cell_type": "code",
      "source": [
        "           1\n",
        " 0                         3 \n",
        "             2                       5 \n",
        "        2.5     2.8          4            6    \n",
        "                       3.5      4.5               90   \n",
        "\n"
      ],
      "metadata": {
        "id": "M23mUk5KVt-h"
      },
      "execution_count": null,
      "outputs": []
    },
    {
      "cell_type": "code",
      "source": [
        "    1\n",
        " 0   "
      ],
      "metadata": {
        "id": "zHdH-9PaV9UD"
      },
      "execution_count": null,
      "outputs": []
    }
  ]
}