{
 "cells": [
  {
   "cell_type": "markdown",
   "metadata": {},
   "source": [
    "# Sorting algorithms"
   ]
  },
  {
   "cell_type": "markdown",
   "metadata": {},
   "source": [
    "The most intuitive algorithm is bubble sort. You compare every pair of items in the list, and if the one that comes later is smaller than the one that comes earlier, you swap their locations."
   ]
  },
  {
   "cell_type": "markdown",
   "metadata": {},
   "source": [
    "When we are talking about computational complexity, what we mean is: if I have to run the algorithm for a list of size N, can I say how much time will it take, broadly speaking. "
   ]
  },
  {
   "cell_type": "code",
   "execution_count": 2,
   "metadata": {},
   "outputs": [],
   "source": [
    "import numpy as np"
   ]
  },
  {
   "cell_type": "code",
   "execution_count": 4,
   "metadata": {},
   "outputs": [],
   "source": [
    "def bubble_sort(numbers):\n",
    "    \n",
    "    for iter_num in range(len(numbers)-1,0,-1):\n",
    "        change = 0\n",
    "        for idx in range(iter_num):\n",
    "            if numbers[idx]>numbers[idx+1]:\n",
    "                temp = numbers[idx]\n",
    "                numbers[idx] = numbers[idx+1]\n",
    "                numbers[idx+1] = temp\n",
    "                change = 1\n",
    "#            print(iter_num,idx,numbers, change)\n",
    "#        print(' ')\n",
    "#        if(change==0):\n",
    "#            break      \n",
    "    return numbers\n"
   ]
  },
  {
   "cell_type": "code",
   "execution_count": 5,
   "metadata": {},
   "outputs": [
    {
     "name": "stdout",
     "output_type": "stream",
     "text": [
      "[65, 99, 44, 99, 66, 78, 87, 91, 46, 80, 71, 72, 10, 61, 74, 57, 90, 34, 47, 31]\n",
      "[10, 31, 34, 44, 46, 47, 57, 61, 65, 66, 71, 72, 74, 78, 80, 87, 90, 91, 99, 99]\n"
     ]
    }
   ],
   "source": [
    "numbers = list(np.random.randint(1,100,20))\n",
    "print(numbers)\n",
    "print(bubble_sort(numbers))"
   ]
  },
  {
   "cell_type": "markdown",
   "metadata": {},
   "source": [
    "Can you plot a graph showing how bubble sort's computational requirements increase as the size of the list increases?"
   ]
  },
  {
   "cell_type": "markdown",
   "metadata": {},
   "source": [
    "### Merge sort"
   ]
  },
  {
   "cell_type": "markdown",
   "metadata": {},
   "source": [
    "A more complex, but efficient algorithm, is merge sort. The basic idea here is that it is always easier to merge arrays than to sort them. So we break the original list up into halves, and those halves into halves, and so on until we come across a set of lists with just one element each. These lists are already sorted, so we just string them back together in the correct sequence to sort the whole big list. "
   ]
  },
  {
   "cell_type": "code",
   "execution_count": 18,
   "metadata": {},
   "outputs": [],
   "source": [
    "def merge(left,right):\n",
    "\n",
    "    result = []\n",
    "    while len(left) != 0 and len(right) != 0:\n",
    "        if left[0] < right[0]:\n",
    "            result.append(left[0])\n",
    "            left.remove(left[0])\n",
    "        else:\n",
    "            result.append(right[0])\n",
    "            right.remove(right[0])\n",
    "        print(result)\n",
    "    if len(left) == 0:\n",
    "        result = result + right\n",
    "    else:\n",
    "        result = result + left\n",
    "    return result"
   ]
  },
  {
   "cell_type": "code",
   "execution_count": 20,
   "metadata": {},
   "outputs": [
    {
     "name": "stdout",
     "output_type": "stream",
     "text": [
      "[0]\n",
      "[0, 1]\n",
      "[0, 1, 2]\n",
      "[0, 1, 2, 3]\n",
      "[0, 1, 2, 3, 4]\n",
      "[0, 1, 2, 3, 4, 5]\n",
      "[0, 1, 2, 3, 4, 5, 6]\n",
      "[0, 1, 2, 3, 4, 5, 6, 7]\n",
      "[0, 1, 2, 3, 4, 5, 6, 7, 8]\n",
      "[0, 1, 2, 3, 4, 5, 6, 7, 8, 9]\n"
     ]
    },
    {
     "data": {
      "text/plain": [
       "[0, 1, 2, 3, 4, 5, 6, 7, 8, 9, 10]"
      ]
     },
     "execution_count": 20,
     "metadata": {},
     "output_type": "execute_result"
    }
   ],
   "source": [
    "merge([0,3,5,7,9], [1,2,4,6,8,10])"
   ]
  },
  {
   "cell_type": "code",
   "execution_count": 21,
   "metadata": {},
   "outputs": [],
   "source": [
    "def merge_sort(numbers):\n",
    "    if len(numbers) <= 1:\n",
    "        return numbers\n",
    "    middle = len(numbers) // 2\n",
    "    left = numbers[:middle]\n",
    "    right = numbers[middle:]\n",
    "\n",
    "    left = merge_sort(left)\n",
    "    right = merge_sort(right)\n",
    "    return list(merge(left, right))"
   ]
  },
  {
   "cell_type": "code",
   "execution_count": 26,
   "metadata": {},
   "outputs": [
    {
     "name": "stdout",
     "output_type": "stream",
     "text": [
      "[38]\n",
      "[10]\n",
      "[10]\n",
      "[10, 20]\n",
      "[10]\n",
      "[10, 20]\n",
      "[10, 20, 38]\n",
      "[10, 20, 38, 54]\n",
      "[34]\n",
      "[10]\n",
      "[10]\n",
      "[10, 15]\n",
      "[10]\n",
      "[10, 15]\n",
      "[10, 15, 34]\n",
      "[10, 15, 34, 39]\n",
      "[10]\n",
      "[10, 10]\n",
      "[10, 10, 15]\n",
      "[10, 10, 15, 20]\n",
      "[10, 10, 15, 20, 34]\n",
      "[10, 10, 15, 20, 34, 38]\n",
      "[10, 10, 15, 20, 34, 38, 39]\n",
      "[10, 10, 15, 20, 34, 38, 39, 54]\n",
      "[10, 10, 15, 20, 34, 38, 39, 54, 79]\n",
      "[2]\n",
      "[20]\n",
      "[20]\n",
      "[20, 33]\n",
      "[2]\n",
      "[2, 20]\n",
      "[2, 20, 33]\n",
      "[2, 20, 33, 56]\n",
      "[30]\n",
      "[5]\n",
      "[5]\n",
      "[5, 29]\n",
      "[5]\n",
      "[5, 29]\n",
      "[5, 29, 30]\n",
      "[5, 29, 30, 59]\n",
      "[2]\n",
      "[2, 5]\n",
      "[2, 5, 20]\n",
      "[2, 5, 20, 29]\n",
      "[2, 5, 20, 29, 30]\n",
      "[2, 5, 20, 29, 30, 33]\n",
      "[2, 5, 20, 29, 30, 33, 56]\n",
      "[2, 5, 20, 29, 30, 33, 56, 59]\n",
      "[2, 5, 20, 29, 30, 33, 56, 59, 60]\n",
      "[2]\n",
      "[2, 5]\n",
      "[2, 5, 10]\n",
      "[2, 5, 10, 10]\n",
      "[2, 5, 10, 10, 15]\n",
      "[2, 5, 10, 10, 15, 20]\n",
      "[2, 5, 10, 10, 15, 20, 20]\n",
      "[2, 5, 10, 10, 15, 20, 20, 29]\n",
      "[2, 5, 10, 10, 15, 20, 20, 29, 30]\n",
      "[2, 5, 10, 10, 15, 20, 20, 29, 30, 33]\n",
      "[2, 5, 10, 10, 15, 20, 20, 29, 30, 33, 34]\n",
      "[2, 5, 10, 10, 15, 20, 20, 29, 30, 33, 34, 38]\n",
      "[2, 5, 10, 10, 15, 20, 20, 29, 30, 33, 34, 38, 39]\n",
      "[2, 5, 10, 10, 15, 20, 20, 29, 30, 33, 34, 38, 39, 54]\n",
      "[2, 5, 10, 10, 15, 20, 20, 29, 30, 33, 34, 38, 39, 54, 56]\n",
      "[2, 5, 10, 10, 15, 20, 20, 29, 30, 33, 34, 38, 39, 54, 56, 59]\n",
      "[2, 5, 10, 10, 15, 20, 20, 29, 30, 33, 34, 38, 39, 54, 56, 59, 60]\n",
      "[2, 5, 10, 10, 15, 20, 20, 29, 30, 33, 34, 38, 39, 54, 56, 59, 60, 79]\n",
      "[2, 5, 10, 10, 15, 20, 20, 29, 30, 33, 34, 38, 39, 54, 56, 59, 60, 79, 84]\n",
      "[2, 5, 10, 10, 15, 20, 20, 29, 30, 33, 34, 38, 39, 54, 56, 59, 60, 79, 84, 96]\n"
     ]
    }
   ],
   "source": [
    "numbers = list(np.random.randint(1,100,20))\n",
    "print(merge_sort(numbers))"
   ]
  },
  {
   "cell_type": "markdown",
   "metadata": {},
   "source": [
    "Merge sort has a computational complexity of $O(n \\log(n))$ as opposed to bubble sort, which has a complexity of $O(n^2)$. But does it really work much better? "
   ]
  },
  {
   "cell_type": "markdown",
   "metadata": {},
   "source": [
    "Why don't you compare the performance of bubble sort and merge sort quantitatively? "
   ]
  },
  {
   "cell_type": "markdown",
   "metadata": {},
   "source": [
    "### Insertion sort"
   ]
  },
  {
   "cell_type": "markdown",
   "metadata": {},
   "source": [
    "In a very common use case - sorting data that is nearly sorted - merge sort does terribly. The best algorithm for such settings is insertion sort. The idea is to iterate through the list, and whenever you find a number smaller than its predecessor, also looking at whether it is smaller than any of the earlier numbers. Then we move this number back such that it is larger than the number it succeeds in its new location. "
   ]
  },
  {
   "cell_type": "code",
   "execution_count": 14,
   "metadata": {},
   "outputs": [],
   "source": [
    "def insertion_sort(numbers):     \n",
    "    for i in range(1, len(numbers)): \n",
    "        key = numbers[i]         \n",
    "        j = i-1\n",
    "        while j >= 0 and key < numbers[j]: \n",
    "                numbers[j + 1] = numbers[j] \n",
    "                j -= 1\n",
    "        numbers[j + 1] = key\n",
    "        print(numbers)\n",
    "    return numbers"
   ]
  },
  {
   "cell_type": "code",
   "execution_count": 15,
   "metadata": {},
   "outputs": [],
   "source": [
    "def insertion_sort_cnt(numbers):  \n",
    "    cnt = 0\n",
    "    for i in range(1, len(numbers)): \n",
    "        key = numbers[i]         \n",
    "        j = i-1\n",
    "        while j >= 0 and key < numbers[j]: \n",
    "            cnt = cnt + 1\n",
    "            numbers[j + 1] = numbers[j] \n",
    "            j -= 1\n",
    "        numbers[j + 1] = key\n",
    "       # print(numbers)\n",
    "    return cnt"
   ]
  },
  {
   "cell_type": "code",
   "execution_count": 32,
   "metadata": {},
   "outputs": [
    {
     "name": "stdout",
     "output_type": "stream",
     "text": [
      "[19, 41, 75, 9, 53, 5, 83, 92, 33, 84, 41, 16, 68, 27, 14, 65, 50, 31, 58, 2]\n",
      "[19, 41, 75, 9, 53, 5, 83, 92, 33, 84, 41, 16, 68, 27, 14, 65, 50, 31, 58, 2]\n",
      "[9, 19, 41, 75, 53, 5, 83, 92, 33, 84, 41, 16, 68, 27, 14, 65, 50, 31, 58, 2]\n",
      "[9, 19, 41, 53, 75, 5, 83, 92, 33, 84, 41, 16, 68, 27, 14, 65, 50, 31, 58, 2]\n",
      "[5, 9, 19, 41, 53, 75, 83, 92, 33, 84, 41, 16, 68, 27, 14, 65, 50, 31, 58, 2]\n",
      "[5, 9, 19, 41, 53, 75, 83, 92, 33, 84, 41, 16, 68, 27, 14, 65, 50, 31, 58, 2]\n",
      "[5, 9, 19, 41, 53, 75, 83, 92, 33, 84, 41, 16, 68, 27, 14, 65, 50, 31, 58, 2]\n",
      "[5, 9, 19, 33, 41, 53, 75, 83, 92, 84, 41, 16, 68, 27, 14, 65, 50, 31, 58, 2]\n",
      "[5, 9, 19, 33, 41, 53, 75, 83, 84, 92, 41, 16, 68, 27, 14, 65, 50, 31, 58, 2]\n",
      "[5, 9, 19, 33, 41, 41, 53, 75, 83, 84, 92, 16, 68, 27, 14, 65, 50, 31, 58, 2]\n",
      "[5, 9, 16, 19, 33, 41, 41, 53, 75, 83, 84, 92, 68, 27, 14, 65, 50, 31, 58, 2]\n",
      "[5, 9, 16, 19, 33, 41, 41, 53, 68, 75, 83, 84, 92, 27, 14, 65, 50, 31, 58, 2]\n",
      "[5, 9, 16, 19, 27, 33, 41, 41, 53, 68, 75, 83, 84, 92, 14, 65, 50, 31, 58, 2]\n",
      "[5, 9, 14, 16, 19, 27, 33, 41, 41, 53, 68, 75, 83, 84, 92, 65, 50, 31, 58, 2]\n",
      "[5, 9, 14, 16, 19, 27, 33, 41, 41, 53, 65, 68, 75, 83, 84, 92, 50, 31, 58, 2]\n",
      "[5, 9, 14, 16, 19, 27, 33, 41, 41, 50, 53, 65, 68, 75, 83, 84, 92, 31, 58, 2]\n",
      "[5, 9, 14, 16, 19, 27, 31, 33, 41, 41, 50, 53, 65, 68, 75, 83, 84, 92, 58, 2]\n",
      "[5, 9, 14, 16, 19, 27, 31, 33, 41, 41, 50, 53, 58, 65, 68, 75, 83, 84, 92, 2]\n",
      "[2, 5, 9, 14, 16, 19, 27, 31, 33, 41, 41, 50, 53, 58, 65, 68, 75, 83, 84, 92]\n",
      "[2, 5, 9, 14, 16, 19, 27, 31, 33, 41, 41, 50, 53, 58, 65, 68, 75, 83, 84, 92]\n"
     ]
    }
   ],
   "source": [
    "numbers = list(np.random.randint(1,100,20))\n",
    "print(insertion_sort(numbers))"
   ]
  },
  {
   "cell_type": "markdown",
   "metadata": {},
   "source": [
    "Why don't you compare the performance of all three algorithms quantitatively and tell me which one you like best?"
   ]
  },
  {
   "cell_type": "code",
   "execution_count": 16,
   "metadata": {},
   "outputs": [],
   "source": [
    "import matplotlib.pyplot as plt\n",
    "                 \n",
    "                    \n",
    "    "
   ]
  },
  {
   "cell_type": "code",
   "execution_count": 29,
   "metadata": {},
   "outputs": [
    {
     "data": {
      "image/png": "[encoded data removed]",
      "text/plain": [
       "<Figure size 432x288 with 1 Axes>"
      ]
     },
     "metadata": {
      "needs_background": "light"
     },
     "output_type": "display_data"
    }
   ],
   "source": [
    "def almost_sort(n):\n",
    "    als = [i  for i in range(n)]\n",
    "    if(n==10):\n",
    "        for j in range(5,8):\n",
    "            als[j] = np.random.randint(1,100,1)\n",
    "    else :\n",
    "        for j in range(int(n/2),int(n/2)+int(n/10)):\n",
    "            als[j] = np.random.randint(1,100,1)\n",
    "    return als        \n",
    "            \n",
    "    \n",
    "x = []\n",
    "y_almost = []\n",
    "z_random = []\n",
    "l = []\n",
    "for m in range(500):\n",
    "    x.append (m)\n",
    "    y_almost.append(insertion_sort_cnt(almost_sort(m)))\n",
    "    z_random.append((insertion_sort_cnt(list(np.random.randint(1,100,m)))))\n",
    "    l.append(insertion_sort_cnt([ll for ll in range(m)]))\n",
    "                    \n",
    "\n",
    "plt.plot(x,y_almost,color = 'red')\n",
    "plt.plot(x,z_random,color = 'blue')\n",
    "plt.plot(x,l,color = 'green')\n",
    "plt.show()   "
   ]
  },
  {
   "cell_type": "code",
   "execution_count": null,
   "metadata": {},
   "outputs": [],
   "source": []
  },
  {
   "cell_type": "code",
   "execution_count": 2,
   "metadata": {},
   "outputs": [
    {
     "data": {
      "text/plain": [
       "[0, 1, 2, 3, 4, 5, 6, 7, 8, 9]"
      ]
     },
     "execution_count": 2,
     "metadata": {},
     "output_type": "execute_result"
    }
   ],
   "source": [
    "[i  for i in range(10)]"
   ]
  },
  {
   "cell_type": "code",
   "execution_count": 4,
   "metadata": {},
   "outputs": [
    {
     "data": {
      "text/plain": [
       "[54, 45, 74, 81, 37, 77, 65, 64, 60, 91]"
      ]
     },
     "execution_count": 4,
     "metadata": {},
     "output_type": "execute_result"
    }
   ],
   "source": [
    "list(np.random.randint(1,100,10))"
   ]
  },
  {
   "cell_type": "code",
   "execution_count": 4,
   "metadata": {},
   "outputs": [
    {
     "data": {
      "text/plain": [
       "range(7, 10)"
      ]
     },
     "execution_count": 4,
     "metadata": {},
     "output_type": "execute_result"
    }
   ],
   "source": [
    "range(7,10)"
   ]
  },
  {
   "cell_type": "code",
   "execution_count": 8,
   "metadata": {},
   "outputs": [
    {
     "data": {
      "text/plain": [
       "30.0"
      ]
     },
     "execution_count": 8,
     "metadata": {},
     "output_type": "execute_result"
    }
   ],
   "source": [
    "n = 50\n",
    "n/2+n/10"
   ]
  },
  {
   "cell_type": "code",
   "execution_count": 7,
   "metadata": {},
   "outputs": [
    {
     "data": {
      "text/plain": [
       "0"
      ]
     },
     "execution_count": 7,
     "metadata": {},
     "output_type": "execute_result"
    }
   ],
   "source": [
    "n%10"
   ]
  },
  {
   "cell_type": "code",
   "execution_count": 23,
   "metadata": {},
   "outputs": [
    {
     "name": "stdout",
     "output_type": "stream",
     "text": [
      "[59, 3, 64, 45, 75]\n",
      "3\n",
      "64\n",
      "45\n",
      "75\n",
      "[3, 45, 59, 64, 75]\n"
     ]
    }
   ],
   "source": [
    "a = list(np.random.randint(1,100,5))\n",
    "print(a)\n",
    "for i in range(1,len(a)):\n",
    "    key = a[i]\n",
    "    j = i-1\n",
    "    print(key)\n",
    "    while j >=0 and key < a[j]:\n",
    "        #temp  = a[j+1]\n",
    "        a[j+1] = a[j]\n",
    "        j=j-1\n",
    "    a[j+1]  = key    \n",
    "       \n",
    "print(a)    \n",
    "    \n"
   ]
  },
  {
   "cell_type": "code",
   "execution_count": null,
   "metadata": {},
   "outputs": [],
   "source": []
  },
  {
   "cell_type": "code",
   "execution_count": null,
   "metadata": {},
   "outputs": [],
   "source": []
  }
 ],
 "metadata": {
  "kernelspec": {
   "display_name": "Python 3",
   "language": "python",
   "name": "python3"
  },
  "language_info": {
   "codemirror_mode": {
    "name": "ipython",
    "version": 3
   },
   "file_extension": ".py",
   "mimetype": "text/x-python",
   "name": "python",
   "nbconvert_exporter": "python",
   "pygments_lexer": "ipython3",
   "version": "3.7.9"
  }
 },
 "nbformat": 4,
 "nbformat_minor": 4
}
