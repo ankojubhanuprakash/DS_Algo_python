{
  "nbformat": 4,
  "nbformat_minor": 0,
  "metadata": {
    "colab": {
      "name": "DS_array.ipynb",
      "provenance": [],
      "collapsed_sections": [],
      "authorship_tag": "ABX9TyPCDUVMpt17BgsZHwDo7XM/",
      "include_colab_link": true
    },
    "kernelspec": {
      "name": "python3",
      "display_name": "Python 3"
    },
    "language_info": {
      "name": "python"
    }
  },
  "cells": [
    {
      "cell_type": "markdown",
      "metadata": {
        "id": "view-in-github",
        "colab_type": "text"
      },
      "source": [
        "<a href=\"https://colab.research.google.com/github/ankojubhanuprakash/DS_Algo_python/blob/main/DS_array.ipynb\" target=\"_parent\"><img src=\"https://colab.research.google.com/assets/colab-badge.svg\" alt=\"Open In Colab\"/></a>"
      ]
    },
    {
      "cell_type": "markdown",
      "metadata": {
        "id": "9pJK6yP8nh4l"
      },
      "source": [
        "#Q1 reversestring"
      ]
    },
    {
      "cell_type": "code",
      "metadata": {
        "colab": {
          "base_uri": "https://localhost:8080/"
        },
        "id": "JR5FzKbInXrh",
        "outputId": "8c487021-f10d-4a14-aebd-ccefa8cea8ae"
      },
      "source": [
        "s = 'bhanu'\n",
        "def reverse(s):\n",
        "  s = list(s)\n",
        "  size=len(s)\n",
        "  temp=''\n",
        "  for i in range(int(len(s)/2)):\n",
        "    temp=s[i]\n",
        "    s[i]=s[size-i-1]\n",
        "    s[size-i-1]=temp\n",
        "  return ''.join(s) \n",
        "def reverse1(s):  \n",
        "  temp=''\n",
        "  for i in range(1,len(s)+1):\n",
        "    temp+=s[-i]\n",
        "  return temp  \n",
        "\n",
        "%timeit reverse(s) # reverse is dine by swapping string\n",
        "%timeit reverse1(s) #reverse is just back tracking the string just \n"
      ],
      "execution_count": 12,
      "outputs": [
        {
          "output_type": "stream",
          "name": "stdout",
          "text": [
            "The slowest run took 5.05 times longer than the fastest. This could mean that an intermediate result is being cached.\n",
            "1000000 loops, best of 5: 1.51 µs per loop\n",
            "The slowest run took 4.09 times longer than the fastest. This could mean that an intermediate result is being cached.\n",
            "1000000 loops, best of 5: 1.02 µs per loop\n"
          ]
        }
      ]
    },
    {
      "cell_type": "markdown",
      "metadata": {
        "id": "I16edZAhroni"
      },
      "source": [
        "# Q2 find min and max from an array"
      ]
    },
    {
      "cell_type": "code",
      "metadata": {
        "colab": {
          "base_uri": "https://localhost:8080/"
        },
        "id": "cFTaV3Gynojv",
        "outputId": "dfed069f-1b39-4760-c42c-8c3bf5bff5e3"
      },
      "source": [
        "array1 = [int(i) for i in input().split()]\n",
        "#print(array1)\n",
        "def minmax(array1):\n",
        "  min,max=0,0\n",
        "  #print(array1)\n",
        "  for i in array1:\n",
        "      if (i>max):\n",
        "          max=i\n",
        "      if (min>i):\n",
        "          min = i\n",
        "  return min,max  \n",
        "\n",
        "minmax(array1)      \n"
      ],
      "execution_count": 16,
      "outputs": [
        {
          "name": "stdout",
          "output_type": "stream",
          "text": [
            "1 2 3 -5 333 999 -89 -95 0\n"
          ]
        },
        {
          "output_type": "execute_result",
          "data": {
            "text/plain": [
              "(-95, 999)"
            ]
          },
          "metadata": {},
          "execution_count": 16
        }
      ]
    },
    {
      "cell_type": "code",
      "metadata": {
        "id": "hgmqRSlroT83"
      },
      "source": [
        ""
      ],
      "execution_count": null,
      "outputs": []
    }
  ]
}